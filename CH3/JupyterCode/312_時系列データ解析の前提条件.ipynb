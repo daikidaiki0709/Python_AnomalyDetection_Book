{
 "cells": [
  {
   "cell_type": "markdown",
   "id": "81972bf3-b967-48a4-8cac-659fd6e3b9b1",
   "metadata": {},
   "source": [
    "# 時系列データ解析の特徴\n",
    "\n",
    "- データの並び順に意味を持つ（i.i.dじゃない）\n",
    "    - i.i.d (independent and identically distributed)＝データは独立同一分布に従う\n",
    "- 不可逆性\n",
    "    - 時間は、固定したり、戻したりできない（常に前に進む）\n",
    "    \n",
    "# 前提条件\n",
    "\n",
    "## 弱定常性\n",
    "    1. 時系列サンプルデータ観測値y(t)の平均値（期待値）は時間に依存せず一定もしくは定常である(E[y(t)] = μ)\n",
    "    2. y(t)の分散は時間に依存せず一定もしくは定常である(V[y(t)] = const.)\n",
    "    3. y(t)とy(t-h)からなる自己共分散は時間に依存せず、ラグhのみに依存すること\n",
    "    \n",
    "## 強定常性\n",
    "    1. y(t)に対して同一確率分布を持つこと \n",
    "- 弱定常性よりも強い前提条件を課す\n",
    "\n",
    "\n",
    "# 定常性の検証方法\n",
    "- 定常性検定（単位根検定）\n",
    "    - 解析前にサンプルデータに対して直接行う検定（p値）\n",
    "        - Dickey-Fuller(DF)検定\n",
    "        - Augmented Dickey-Fuller(ADF)検定\n",
    "            \n",
    "    - 解析後に行う検定（有意水準で相関有無）\n",
    "        - 残差に対する自己相関（ACF）\n",
    "        - 残差に対する偏自己相関（PACF）\n",
    "        "
   ]
  }
 ],
 "metadata": {
  "kernelspec": {
   "display_name": "Python 3 (ipykernel)",
   "language": "python",
   "name": "python3"
  },
  "language_info": {
   "codemirror_mode": {
    "name": "ipython",
    "version": 3
   },
   "file_extension": ".py",
   "mimetype": "text/x-python",
   "name": "python",
   "nbconvert_exporter": "python",
   "pygments_lexer": "ipython3",
   "version": "3.8.12"
  }
 },
 "nbformat": 4,
 "nbformat_minor": 5
}
