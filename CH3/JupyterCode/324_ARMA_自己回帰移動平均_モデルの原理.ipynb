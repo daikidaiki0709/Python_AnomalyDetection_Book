{
 "cells": [
  {
   "cell_type": "markdown",
   "id": "3fef0760-6ccc-40e1-b9b6-d6f9bd04e7a4",
   "metadata": {},
   "source": [
    "## ARMAモデル\n",
    "\n",
    "- ARMA = AR + MA\n",
    "- 以下で記述できる\n",
    "\n",
    "$$\n",
    "s_{t} = \\epsilon_{t} + \\sum_{i=1}^{p} \\phi_{i}s_{t-1} + \\sum_{i=1}^{q} \\theta_{i}\\epsilon_{t-i}\n",
    "$$\n",
    "\n",
    "- 用いるには定常性の検証が必要\n",
    "- ARMAのハイパーパラメータは(p,q)である\n",
    "\n",
    "## 解析ステップ\n",
    "### 1. サンプルデータの定常性確認\n",
    "\n",
    "### 2. 残差に対する自己相関・偏自己相関分析\n",
    "\n",
    "### 3. ARMAモデルを構築し、予測値と実測値を同時プロット"
   ]
  },
  {
   "cell_type": "code",
   "execution_count": 1,
   "id": "57f98a48-9ecc-4092-b957-e5fb3c7b96bb",
   "metadata": {},
   "outputs": [
    {
     "name": "stderr",
     "output_type": "stream",
     "text": [
      "/Users/daiki/miniforge3/envs/tsukuba/lib/python3.8/site-packages/statsmodels/tsa/statespace/sarimax.py:978: UserWarning: Non-invertible starting MA parameters found. Using zeros as starting parameters.\n",
      "  warn('Non-invertible starting MA parameters found.'\n",
      "/Users/daiki/miniforge3/envs/tsukuba/lib/python3.8/site-packages/statsmodels/tsa/statespace/sarimax.py:966: UserWarning: Non-stationary starting autoregressive parameters found. Using zeros as starting parameters.\n",
      "  warn('Non-stationary starting autoregressive parameters'\n",
      "/Users/daiki/miniforge3/envs/tsukuba/lib/python3.8/site-packages/statsmodels/base/model.py:604: ConvergenceWarning: Maximum Likelihood optimization failed to converge. Check mle_retvals\n",
      "  warnings.warn(\"Maximum Likelihood optimization failed to \"\n",
      "/Users/daiki/miniforge3/envs/tsukuba/lib/python3.8/site-packages/statsmodels/base/model.py:604: ConvergenceWarning: Maximum Likelihood optimization failed to converge. Check mle_retvals\n",
      "  warnings.warn(\"Maximum Likelihood optimization failed to \"\n",
      "/Users/daiki/miniforge3/envs/tsukuba/lib/python3.8/site-packages/statsmodels/base/model.py:604: ConvergenceWarning: Maximum Likelihood optimization failed to converge. Check mle_retvals\n",
      "  warnings.warn(\"Maximum Likelihood optimization failed to \"\n",
      "/Users/daiki/miniforge3/envs/tsukuba/lib/python3.8/site-packages/statsmodels/base/model.py:604: ConvergenceWarning: Maximum Likelihood optimization failed to converge. Check mle_retvals\n",
      "  warnings.warn(\"Maximum Likelihood optimization failed to \"\n"
     ]
    },
    {
     "ename": "AttributeError",
     "evalue": "module 'statsmodels.tsa.api' has no attribute 'ARMA'",
     "output_type": "error",
     "traceback": [
      "\u001b[0;31m---------------------------------------------------------------------------\u001b[0m",
      "\u001b[0;31mAttributeError\u001b[0m                            Traceback (most recent call last)",
      "Input \u001b[0;32mIn [1]\u001b[0m, in \u001b[0;36m<cell line: 34>\u001b[0;34m()\u001b[0m\n\u001b[1;32m     20\u001b[0m \u001b[38;5;66;03m#passengers_diff= passengers .diff()[:120].dropna()\u001b[39;00m\n\u001b[1;32m     21\u001b[0m \n\u001b[1;32m     22\u001b[0m \u001b[38;5;66;03m#plt.plot(passengers_diff)\u001b[39;00m\n\u001b[0;32m   (...)\u001b[0m\n\u001b[1;32m     30\u001b[0m \n\u001b[1;32m     31\u001b[0m \u001b[38;5;66;03m# 'aic_min_order': (3, 3), 'bic_min_order': (3, 3)}\u001b[39;00m\n\u001b[1;32m     33\u001b[0m ARMA\u001b[38;5;241m=\u001b[39m sm\u001b[38;5;241m.\u001b[39mtsa\u001b[38;5;241m.\u001b[39marma_order_select_ic(passengers, max_ar\u001b[38;5;241m=\u001b[39m\u001b[38;5;241m4\u001b[39m, max_ma\u001b[38;5;241m=\u001b[39m\u001b[38;5;241m4\u001b[39m, ic\u001b[38;5;241m=\u001b[39m[\u001b[38;5;124m'\u001b[39m\u001b[38;5;124maic\u001b[39m\u001b[38;5;124m'\u001b[39m,\u001b[38;5;124m'\u001b[39m\u001b[38;5;124mbic\u001b[39m\u001b[38;5;124m'\u001b[39m])\n\u001b[0;32m---> 34\u001b[0m ARMA \u001b[38;5;241m=\u001b[39m \u001b[43msm\u001b[49m\u001b[38;5;241;43m.\u001b[39;49m\u001b[43mtsa\u001b[49m\u001b[38;5;241;43m.\u001b[39;49m\u001b[43mARMA\u001b[49m(passengers, order\u001b[38;5;241m=\u001b[39m(\u001b[38;5;241m3\u001b[39m, \u001b[38;5;241m3\u001b[39m))\u001b[38;5;241m.\u001b[39mfit()\n\u001b[1;32m     35\u001b[0m resid \u001b[38;5;241m=\u001b[39m ARMA\u001b[38;5;241m.\u001b[39mresid\n\u001b[1;32m     36\u001b[0m fig \u001b[38;5;241m=\u001b[39m plt\u001b[38;5;241m.\u001b[39mfigure(figsize\u001b[38;5;241m=\u001b[39m(\u001b[38;5;241m5\u001b[39m,\u001b[38;5;241m8\u001b[39m))\n",
      "\u001b[0;31mAttributeError\u001b[0m: module 'statsmodels.tsa.api' has no attribute 'ARMA'"
     ]
    }
   ],
   "source": [
    "#!/usr/bin/env python\n",
    "# coding: utf-8\n",
    "\n",
    "import numpy as np\n",
    "import matplotlib.pyplot as plt\n",
    "import pandas as pd\n",
    "import statsmodels.api as sm\n",
    "import io\n",
    "import requests\n",
    "\n",
    "# 月ごとの飛行機の乗客数データ\n",
    "url = \"https://www.analyticsvidhya.com/wp-content/uploads/2016/02/AirPassengers.csv\"\n",
    "stream = requests.get(url).content\n",
    "content = pd.read_csv(io.StringIO(stream.decode('utf-8')),index_col='Month',parse_dates=True,dtype='float')\n",
    "\n",
    "passengers = content['#Passengers'][:120]\n",
    "\n",
    "passengers_plot= content['#Passengers']\n",
    "\n",
    "#passengers_diff= passengers .diff()[:120].dropna()\n",
    "\n",
    "#plt.plot(passengers_diff)\n",
    "\n",
    "#ctt = sm.tsa.stattools.adfuller(np.diff(np.log(passengers)), regression = \"ctt\")\n",
    "#ct = sm.tsa.stattools.adfuller(np.diff(np.log(passengers)), regression = \"ct\")\n",
    "#c = sm.tsa.stattools.adfuller(np.diff(np.log(passengers)), regression = \"c\")\n",
    "\n",
    "\n",
    "#MA_order= sm.tsa.arma_order_select_ic(passengers, max_ar=4, max_ma=4, ic=['aic','bic'])\n",
    "\n",
    "# 'aic_min_order': (3, 3), 'bic_min_order': (3, 3)}\n",
    "\n",
    "ARMA= sm.tsa.arma_order_select_ic(passengers, max_ar=4, max_ma=4, ic=['aic','bic'])\n",
    "ARMA = sm.tsa.ARMA(passengers, order=(3, 3)).fit()\n",
    "resid = ARMA.resid\n",
    "fig = plt.figure(figsize=(5,8))\n",
    "ax1 = fig.add_subplot(211)\n",
    "fig = sm.graphics.tsa.plot_acf(resid, lags=40, ax=ax1)\n",
    "ax2 = fig.add_subplot(212)\n",
    "fig = sm.graphics.tsa.plot_pacf(resid, lags=40, ax=ax2)\n",
    "\n",
    "pred_in = ARMA.predict('1955-01-01', '1958-12-01')\n",
    "pred_out = ARMA.predict('1958-01-01', '1965-12-01')\n",
    "\n",
    "plt.figure(figsize=(6,5))\n",
    "plt.plot(passengers[70:120],'--')\n",
    "plt.plot(pred_in, \"k\")\n",
    "plt.xticks(rotation=45)\n",
    "\n",
    "plt.figure(figsize=(4,5))\n",
    "plt.plot(passengers[40:],'--')\n",
    "plt.plot(pred_out, \"k\")\n",
    "plt.xticks(rotation=45)\n",
    "\n",
    "plt.show()\n"
   ]
  },
  {
   "cell_type": "code",
   "execution_count": null,
   "id": "2b1307cb-7fa2-40bb-9a75-6f02cba292f6",
   "metadata": {},
   "outputs": [],
   "source": []
  }
 ],
 "metadata": {
  "kernelspec": {
   "display_name": "Python 3 (ipykernel)",
   "language": "python",
   "name": "python3"
  },
  "language_info": {
   "codemirror_mode": {
    "name": "ipython",
    "version": 3
   },
   "file_extension": ".py",
   "mimetype": "text/x-python",
   "name": "python",
   "nbconvert_exporter": "python",
   "pygments_lexer": "ipython3",
   "version": "3.8.12"
  }
 },
 "nbformat": 4,
 "nbformat_minor": 5
}
