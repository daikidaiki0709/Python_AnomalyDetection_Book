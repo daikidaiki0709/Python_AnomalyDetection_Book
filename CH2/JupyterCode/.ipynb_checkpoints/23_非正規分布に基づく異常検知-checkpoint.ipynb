{
 "cells": [
  {
   "cell_type": "markdown",
   "id": "f6bc34f9-bf92-4aa9-acb6-8a358f02e84f",
   "metadata": {},
   "source": [
    "## 非正規分布に基づく異常検知\n",
    "### 局所外れ値（LOF）因子法"
   ]
  },
  {
   "cell_type": "code",
   "execution_count": 2,
   "id": "36d05627",
   "metadata": {},
   "outputs": [
    {
     "data": {
      "image/png": "[encoded data removed]",
      "text/plain": [
       "<Figure size 432x288 with 1 Axes>"
      ]
     },
     "metadata": {
      "needs_background": "light"
     },
     "output_type": "display_data"
    }
   ],
   "source": [
    "import matplotlib.pyplot as plt\n",
    "import numpy as np\n",
    "import pandas as pd\n",
    "import scipy as sp\n",
    "import scipy.stats\n",
    "from numpy import linalg as la\n",
    "\n",
    "### データ読み込み ###\n",
    "davis = pd.read_csv('./../data/Davis_1_2.csv').values\n",
    "threshold= 0.0018\n",
    "\n",
    "index_list  =   [ ]\n",
    "p_list    =   [ ]\n",
    "alpha_list   =   [ ]\n",
    "\n",
    "d = 0\n",
    "p  = 0\n",
    "x = davis[1:60 ,2] # 59人分のデータ\n",
    "y = davis[1:60 ,3]\n",
    "dx = x - x.mean(axis = 0)\n",
    "dy = y - y.mean(axis = 0)\n",
    "data = dx.shape[0]\n",
    "\n",
    "\n",
    "##### データ点pのk個の近傍点の距離の平均(d)を算出 #####\n",
    "\n",
    "# 任意の点を定義（全点数分行うためloop)\n",
    "for s in range(data):\n",
    "    distance = []\n",
    "\n",
    "    # 任意の点(s)とその他の点の距離を算出し、distanceに格納\n",
    "    for i in range(data):\n",
    "        dxl = dx[i] - dx[s]\n",
    "        dyl = dy[i] - dy[s]\n",
    "        d2 = (dxl** 2 + dyl** 2)**0.5\n",
    "        distance.append(d2)\n",
    "    \n",
    "    # distanceの配列化\n",
    "    distance_array = np.array(distance)\n",
    "    \n",
    "    # sort処理\n",
    "    index_list = sorted(range(len(distance_array)), key=lambda j: distance_array[j]) # distanceの大小でsortし、そのindexを取得\n",
    "    distance_array = np.sort(distance_array)\n",
    "    \n",
    "    # 近傍点を定義\n",
    "    k=20\n",
    "    \n",
    "    # 任意点とk個の近傍点との距離の平均値を算出\n",
    "    for n in range(k):\n",
    "        d = d + distance_array[n]\n",
    "    d = d/k # 平均値\n",
    "    \n",
    "##### 近傍点を中心としたk個の近傍点との距離の平均 #####\n",
    "\n",
    "    # 任意の近傍点をmとして定義\n",
    "    for k_i in index_list[1:k+1]:\n",
    "        \n",
    "        # 各近傍点とデータの差分(p_list)を総和\n",
    "        p_list=[ ]\n",
    "        \n",
    "        # 各データと任意の近傍点との距離を算出\n",
    "        for i in range(data):\n",
    "            xl = dx[i] - dx[k_i]\n",
    "            yl = dy[i] - dy[k_i]\n",
    "            l2 = (xl**2 + yl**2)**0.5\n",
    "            p_list.append(l2)\n",
    "        \n",
    "        p_list = np.array(p_list)\n",
    "        p_list_sorted = np.sort(p_list)\n",
    "        \n",
    "        for n in range(k) :\n",
    "            p = p + p_list_sorted[n]\n",
    "    p = (p/k) / k # 各近傍点での距離の平均を算出し、総和したのでさらにその平均を取る\n",
    "    \n",
    "    # 局所異常度を算出\n",
    "    alpha = d/p\n",
    "    alpha_list.append(alpha)\n",
    "    \n",
    "abnormals = np.array(alpha_list)\n",
    "\n",
    "dx = np.linspace(0, 59, 59)\n",
    "plt.scatter(np.round(dx),abnormals, marker =  \",\",   c=\"green\", alpha=0.2)\n",
    "plt.ylim(0.1,5)\n",
    "plt.show()"
   ]
  },
  {
   "cell_type": "code",
   "execution_count": 190,
   "id": "cdf64a48",
   "metadata": {},
   "outputs": [
    {
     "data": {
      "text/plain": [
       "array([1.05631506, 1.18135177, 1.05796883, 1.29955928, 1.28106411,\n",
       "       1.43784698, 1.51471287, 1.07881207, 0.80438678, 1.01377414,\n",
       "       1.28851657, 0.82687176, 1.14575848, 0.90135672, 2.0338094 ,\n",
       "       0.9023878 , 2.27056596, 1.07687655, 3.88446951, 1.02755665,\n",
       "       0.90262427, 0.828847  , 1.14507613, 1.26002433, 0.81238178,\n",
       "       0.89607178, 2.49907904, 2.5345211 , 1.25332533, 1.20444991,\n",
       "       1.08540933, 1.61939709, 0.94027459, 1.06955687, 0.90857551,\n",
       "       0.90103929, 0.86540664, 1.00228303, 0.98559383, 1.33259585,\n",
       "       1.38962122, 1.12005481, 0.91132906, 0.95186924, 2.64904135,\n",
       "       1.27891281, 0.92457945, 1.3755463 , 1.17615548, 1.16689423,\n",
       "       1.83980165, 0.91113439, 1.35216945, 1.62417694, 1.13102065,\n",
       "       1.10147718, 0.87543834, 1.09015252, 0.99035368])"
      ]
     },
     "execution_count": 190,
     "metadata": {},
     "output_type": "execute_result"
    }
   ],
   "source": [
    "abnormals"
   ]
  },
  {
   "cell_type": "code",
   "execution_count": 193,
   "id": "b79fcf2a",
   "metadata": {},
   "outputs": [
    {
     "data": {
      "image/png": "[encoded data removed]",
      "text/plain": [
       "<Figure size 432x288 with 1 Axes>"
      ]
     },
     "metadata": {
      "needs_background": "light"
     },
     "output_type": "display_data"
    }
   ],
   "source": [
    "# coding utf-8\n",
    "\n",
    "import matplotlib.pyplot as plt\n",
    "import numpy as np\n",
    "import pandas as pd\n",
    "import scipy as sp\n",
    "import scipy.stats\n",
    "from numpy import linalg as la\n",
    "\n",
    "\n",
    "### データ読み込み ###\n",
    "davis = pd.read_csv('./../data/Davis_1_2.csv').values\n",
    "threshold= 0.0018\n",
    "\n",
    "### 局所外れ値因子法を定義 ###\n",
    "def lof_knn():\n",
    "    '''\n",
    "    異常度を返す\n",
    "    '''\n",
    "    index_list  =   [ ]\n",
    "    p_list    =   [ ]\n",
    "    alpha_list   =   [ ]\n",
    "    \n",
    "    d = 0\n",
    "    p  = 0\n",
    "    x = davis[1:60 ,2]\n",
    "    y = davis[1:60 ,3]\n",
    "    dx = x - x.mean(axis = 0)\n",
    "    dy = y - y.mean(axis = 0)\n",
    "    data = dx.shape[0]\n",
    "   \n",
    "    for s in range(data):    \n",
    "        distance = [] \n",
    "        \n",
    "        for i in range(data):\n",
    "            # sの点とその他の点の距離を算出\n",
    "            dxl = dx[i] - dx[s]\n",
    "            dyl = dy[i] - dy[s]\n",
    "            d2 = ((dxl) ** 2 + (dyl) ** 2)**0.5\n",
    "            distance.append(d2)\n",
    "        \n",
    "        distance_array = np.array(distance)\n",
    "        index_list = sorted(range(len(distance_array)), key=lambda j: distance_array[j])\n",
    "\n",
    "        k=20\n",
    "        distance_array = np.sort(distance_array)\n",
    "        \n",
    "        for n in range(k) :\n",
    "            d = d + distance_array[n]\n",
    "            \n",
    "        d = d/k\n",
    "        \n",
    "        for m in index_list[1:k+1]:\n",
    "            p_list    =   [ ]\n",
    "            for i in range(data):\n",
    "                xl = dx[i] - dx[m]\n",
    "                yl = dy[i] - dy[m]\n",
    "                l2 = (xl) ** 2 + (yl) ** 2\n",
    "                p_list.append(l2**0.5)\n",
    "            p_list = np.array(p_list)\n",
    "            p_li = np.sort(p_list)\n",
    "            \n",
    "            for n in range(k) :\n",
    "                p = p + p_li[n]\n",
    "        p = p/(k*k)\n",
    "        \n",
    "        alpha =(d/p)\n",
    "        alpha_list.append(alpha)\n",
    "    abnormals = np.array(alpha_list)\n",
    "    \n",
    "    dx = np.linspace(0, 59, 59)\n",
    "    plt.scatter(np.round(dx),abnormals, marker =  \",\",   c=\"green\", alpha=0.2)\n",
    "    #plt.scatter(np.round(x),abnormals, marker =  \"o\",   c=\"blue\",alpha=0.8)\n",
    "    plt.ylim(0.1,5)\n",
    "    return abnormals\n",
    "\n",
    "### 異常度の定義 ###\n",
    "def abnormality_score(ap):\n",
    "    result = []\n",
    "    abnormality_score = ap\n",
    "    data = abnormality_score.shape[0]\n",
    "    index= sorted(range(len(abnormality_score)), key=lambda j: abnormality_score[j])\n",
    "    for m in range(data):\n",
    "        abnormality = abnormality_score[m]\n",
    "        if abnormality > threshold:\n",
    "            result.append(m)\n",
    "#     print (result)\n",
    "#     print ('final results is', index)\n",
    "    return result\n",
    "    \n",
    "\n",
    "ap=lof_knn()\n",
    "abnormality_score(ap)\n",
    "plt.show()\n"
   ]
  },
  {
   "cell_type": "code",
   "execution_count": null,
   "id": "dc789d63",
   "metadata": {},
   "outputs": [],
   "source": []
  },
  {
   "cell_type": "code",
   "execution_count": null,
   "id": "8043d2ac",
   "metadata": {},
   "outputs": [],
   "source": []
  }
 ],
 "metadata": {
  "kernelspec": {
   "display_name": "Python 3 (ipykernel)",
   "language": "python",
   "name": "python3"
  },
  "language_info": {
   "codemirror_mode": {
    "name": "ipython",
    "version": 3
   },
   "file_extension": ".py",
   "mimetype": "text/x-python",
   "name": "python",
   "nbconvert_exporter": "python",
   "pygments_lexer": "ipython3",
   "version": "3.8.12"
  }
 },
 "nbformat": 4,
 "nbformat_minor": 5
}
