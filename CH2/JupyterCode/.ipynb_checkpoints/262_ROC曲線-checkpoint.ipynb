{
 "cells": [
  {
   "cell_type": "markdown",
   "id": "7c1cf979-3f02-43af-96cf-19a6404e5c2e",
   "metadata": {},
   "source": [
    "## ROC曲線\n",
    "- ROC曲線 (Receiver Operating Characteristic curve)\n",
    "- ROC曲線の役割：分類における予測精度の評価指標\n",
    "- 各データの異常度（分類の場合はラベル確率）を算出し、その異常度を参考にランダムに複数の閾値を設定する\n",
    "- 各閾値での、１−再現率（正常）, 適合率（異常）を算出し、プロットする\n",
    "    - 1-再現率（正常）：\n",
    "        - （復習）再現率（正常）：実際に正常であるサンプルのうち、正常だと予測された割合\n",
    "        - 1-再現率（正常）：実際に正常であるサンプルのうち、異常だと予測された割合\n",
    "    - 適合率（異常）：異常だと予測されたサンプルのうち実際に異常である割合"
   ]
  },
  {
   "cell_type": "code",
   "execution_count": 10,
   "id": "50f9f465-d0b0-4ceb-9a5f-dc7d7479da89",
   "metadata": {},
   "outputs": [
    {
     "name": "stdout",
     "output_type": "stream",
     "text": [
      "0.7\n",
      "false_alarm_rate:  [0.         0.06666667 0.06666667 0.13333333 0.13333333 0.4\n",
      " 0.4        0.6        0.73333333 0.8        0.86666667 1.        ]\n",
      "recall:  [0.  0.  0.4 0.4 0.6 0.6 0.8 0.8 0.8 0.8 1.  1. ]\n",
      "thresholds:  [8.9 7.9 6.7 6.2 5.2 3.4 3.3 2.9 2.8 2.1 1.8 1.1]\n"
     ]
    },
    {
     "data": {
      "image/png": "[encoded data removed]",
      "text/plain": [
       "<Figure size 432x288 with 1 Axes>"
      ]
     },
     "metadata": {
      "needs_background": "light"
     },
     "output_type": "display_data"
    }
   ],
   "source": [
    "from sklearn import metrics\n",
    "import numpy as np\n",
    "import matplotlib.pyplot as plt\n",
    "from pylab import rcParams\n",
    "\n",
    "# 検証用Dummyデータ\n",
    "True_score = [0, 0, 0, 0, 1, 0, 0, 0, 1, 0, 1, 1, 0, 1, 0, 0, 0, 0, 0, 0 ]\n",
    "\n",
    "#異常度の計算結果\n",
    "abnormality_score = ( [2.8, 1.2, 6.2, 3.4, 5.2, 1.8, 3, 5, 7.8, 2.9, 1.8, 3.3, 4.1,\n",
    "               6.7, 7.9, 1.1, 2.1, 3.1,3.9,2.8] )\n",
    "false_alarm_rate, recall, thresholds = metrics.roc_curve(True_score, abnormality_score)\n",
    "auc = metrics.auc(false_alarm_rate, recall)\n",
    "print(auc)\n",
    "print(\"false_alarm_rate: \", false_alarm_rate)\n",
    "print(\"recall: \", recall)\n",
    "print(\"thresholds: \", thresholds)\n",
    "\n",
    "plt.plot(false_alarm_rate, recall, marker=\"o\")\n",
    "plt.xlabel(\"False_alarm_rate\")\n",
    "plt.ylabel(\"Recall\")\n",
    "plt.show()"
   ]
  },
  {
   "cell_type": "code",
   "execution_count": null,
   "id": "bd26c3ec-e2ce-4670-b453-6c4164abd348",
   "metadata": {},
   "outputs": [],
   "source": []
  }
 ],
 "metadata": {
  "kernelspec": {
   "display_name": "Python 3 (ipykernel)",
   "language": "python",
   "name": "python3"
  },
  "language_info": {
   "codemirror_mode": {
    "name": "ipython",
    "version": 3
   },
   "file_extension": ".py",
   "mimetype": "text/x-python",
   "name": "python",
   "nbconvert_exporter": "python",
   "pygments_lexer": "ipython3",
   "version": "3.8.12"
  }
 },
 "nbformat": 4,
 "nbformat_minor": 5
}
