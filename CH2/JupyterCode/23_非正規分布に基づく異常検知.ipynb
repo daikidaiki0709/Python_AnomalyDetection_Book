{
 "cells": [
  {
   "cell_type": "markdown",
   "id": "f6bc34f9-bf92-4aa9-acb6-8a358f02e84f",
   "metadata": {},
   "source": [
    "## 非正規分布に基づく異常検知\n",
    "\n",
    "### 1. k近傍法\n",
    "- 内容：あるデータを中心とした一定の距離範囲以内にデータ点k個が入ることを基準\n",
    "- 課題：データの密度により本質的なクラスター作成ができなくなる\n",
    "    - 局所外れ値因子法で解決\n",
    "\n",
    "### 2. 局所外れ値因子法（LOF）\n",
    "- 局所異常度：データ点pのk個の近傍点の距離の平均 / 近傍点を中心としたk個の近傍点との距離の平均\n",
    "- データに局所的なばらつきがある場合：局所異常度が1から外れる"
   ]
  },
  {
   "cell_type": "code",
   "execution_count": 2,
   "id": "36d05627",
   "metadata": {},
   "outputs": [
    {
     "data": {
      "image/png": "[encoded data removed]",
      "text/plain": [
       "<Figure size 432x288 with 1 Axes>"
      ]
     },
     "metadata": {
      "needs_background": "light"
     },
     "output_type": "display_data"
    }
   ],
   "source": [
    "import matplotlib.pyplot as plt\n",
    "import numpy as np\n",
    "import pandas as pd\n",
    "import scipy as sp\n",
    "import scipy.stats\n",
    "from numpy import linalg as la\n",
    "\n",
    "### データ読み込み ###\n",
    "davis = pd.read_csv('./../data/Davis_1_2.csv').values\n",
    "threshold= 0.0018\n",
    "\n",
    "index_list  =   [ ]\n",
    "p_list    =   [ ]\n",
    "alpha_list   =   [ ]\n",
    "\n",
    "d = 0\n",
    "p  = 0\n",
    "x = davis[1:60 ,2] # 59人分のデータ\n",
    "y = davis[1:60 ,3]\n",
    "dx = x - x.mean(axis = 0)\n",
    "dy = y - y.mean(axis = 0)\n",
    "data = dx.shape[0]\n",
    "\n",
    "\n",
    "##### データ点pのk個の近傍点の距離の平均(d)を算出 #####\n",
    "\n",
    "# 任意の点を定義（全点数分行うためloop)\n",
    "for s in range(data):\n",
    "    distance = []\n",
    "\n",
    "    # 任意の点(s)とその他の点の距離を算出し、distanceに格納\n",
    "    for i in range(data):\n",
    "        dxl = dx[i] - dx[s]\n",
    "        dyl = dy[i] - dy[s]\n",
    "        d2 = (dxl** 2 + dyl** 2)**0.5\n",
    "        distance.append(d2)\n",
    "    \n",
    "    # distanceの配列化\n",
    "    distance_array = np.array(distance)\n",
    "    \n",
    "    # sort処理\n",
    "    index_list = sorted(range(len(distance_array)), key=lambda j: distance_array[j]) # distanceの大小でsortし、そのindexを取得\n",
    "    distance_array = np.sort(distance_array)\n",
    "    \n",
    "    # 近傍点を定義\n",
    "    k=20\n",
    "    \n",
    "    # 任意点とk個の近傍点との距離の平均値を算出\n",
    "    for n in range(k):\n",
    "        d = d + distance_array[n]\n",
    "    d = d/k # 平均値\n",
    "    \n",
    "##### 近傍点を中心としたk個の近傍点との距離の平均 #####\n",
    "\n",
    "    # 任意の近傍点をmとして定義\n",
    "    for k_i in index_list[1:k+1]:\n",
    "        \n",
    "        # 各近傍点とデータの差分(p_list)を総和\n",
    "        p_list=[ ]\n",
    "        \n",
    "        # 各データと任意の近傍点との距離を算出\n",
    "        for i in range(data):\n",
    "            xl = dx[i] - dx[k_i]\n",
    "            yl = dy[i] - dy[k_i]\n",
    "            l2 = (xl**2 + yl**2)**0.5\n",
    "            p_list.append(l2)\n",
    "        \n",
    "        p_list = np.array(p_list)\n",
    "        p_list_sorted = np.sort(p_list)\n",
    "        \n",
    "        for n in range(k) :\n",
    "            p = p + p_list_sorted[n]\n",
    "    p = (p/k) / k # 各近傍点での距離の平均を算出し、総和したのでさらにその平均を取る\n",
    "    \n",
    "    # 局所異常度を算出\n",
    "    alpha = d/p\n",
    "    alpha_list.append(alpha)\n",
    "    \n",
    "abnormals = np.array(alpha_list)\n",
    "\n",
    "dx = np.linspace(0, 59, 59)\n",
    "plt.scatter(np.round(dx),abnormals, marker =  \",\",   c=\"green\", alpha=0.2)\n",
    "plt.ylim(0.1,5)\n",
    "plt.show()"
   ]
  }
 ],
 "metadata": {
  "kernelspec": {
   "display_name": "Python 3 (ipykernel)",
   "language": "python",
   "name": "python3"
  },
  "language_info": {
   "codemirror_mode": {
    "name": "ipython",
    "version": 3
   },
   "file_extension": ".py",
   "mimetype": "text/x-python",
   "name": "python",
   "nbconvert_exporter": "python",
   "pygments_lexer": "ipython3",
   "version": "3.8.12"
  }
 },
 "nbformat": 4,
 "nbformat_minor": 5
}
